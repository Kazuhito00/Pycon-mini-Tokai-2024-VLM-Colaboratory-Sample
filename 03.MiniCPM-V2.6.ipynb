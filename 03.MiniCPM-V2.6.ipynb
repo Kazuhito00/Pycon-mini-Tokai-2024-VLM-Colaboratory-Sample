{
  "nbformat": 4,
  "nbformat_minor": 0,
  "metadata": {
    "colab": {
      "provenance": [],
      "machine_shape": "hm",
      "gpuType": "T4"
    },
    "kernelspec": {
      "name": "python3",
      "display_name": "Python 3"
    },
    "language_info": {
      "name": "python"
    },
    "accelerator": "GPU"
  },
  "cells": [
    {
      "cell_type": "markdown",
      "source": [
        "# モデル選択"
      ],
      "metadata": {
        "id": "N68zN9_pw6z8"
      }
    },
    {
      "cell_type": "code",
      "source": [
        "model_path = 'openbmb/MiniCPM-V-2_6-int4'  # T4 GPU以上のGPUが必要\n",
        "# model_path = 'openbmb/MiniCPM-V-2_6'  # L4 GPU以上のGPUが必要"
      ],
      "metadata": {
        "id": "XBlbmz5N7dm-"
      },
      "execution_count": 1,
      "outputs": []
    },
    {
      "cell_type": "markdown",
      "source": [
        "# パッケージインストール"
      ],
      "metadata": {
        "id": "CJiOZxOYxBuj"
      }
    },
    {
      "cell_type": "code",
      "source": [
        "!pip install -q transformers\n",
        "!pip install -q -U flash_attn\n",
        "!pip install -q sentencepiece==0.1.99\n",
        "!pip install -q accelerate==0.30.1\n",
        "!pip install -q bitsandbytes==0.43.1\n",
        "!pip install -q -U timm"
      ],
      "metadata": {
        "id": "P_5dxvjw713a"
      },
      "execution_count": null,
      "outputs": []
    },
    {
      "cell_type": "markdown",
      "source": [
        "# モデル読み込み"
      ],
      "metadata": {
        "id": "skRUM-fRxn3M"
      }
    },
    {
      "cell_type": "code",
      "source": [
        "import torch\n",
        "from transformers import AutoModel, AutoTokenizer\n",
        "\n",
        "torch.manual_seed(0)\n",
        "\n",
        "model_name = model_path.split('/')[-1]\n",
        "if model_name == 'MiniCPM-V-2_6':\n",
        "    attn_implementation = 'sdpa'  # sdpa or flash_attention_2, no eager\n",
        "    torch_dtype = torch.bfloat16\n",
        "elif model_name == 'MiniCPM-V-2_6-int4':\n",
        "    attn_implementation = None\n",
        "    torch_dtype = None\n",
        "\n",
        "model = AutoModel.from_pretrained(\n",
        "    model_path,\n",
        "    trust_remote_code=True,\n",
        "    attn_implementation=attn_implementation,\n",
        "    torch_dtype=torch_dtype,\n",
        ")\n",
        "if model_name == 'MiniCPM-V-2_6':\n",
        "    model = model.eval().cuda()\n",
        "elif model_name == 'MiniCPM-V-2_6-int4':\n",
        "    model = model.eval()\n",
        "\n",
        "tokenizer = AutoTokenizer.from_pretrained(model_path, trust_remote_code=True)"
      ],
      "metadata": {
        "id": "6Rig1d0M73A7"
      },
      "execution_count": null,
      "outputs": []
    },
    {
      "cell_type": "markdown",
      "source": [
        "# 画像認識でのマルチターンチャット サンプル"
      ],
      "metadata": {
        "id": "4hrTJSlPyGQK"
      }
    },
    {
      "cell_type": "markdown",
      "source": [
        "## サンプル画像ダウンロード"
      ],
      "metadata": {
        "id": "8OKu74PGyJdV"
      }
    },
    {
      "cell_type": "code",
      "source": [
        "!wget https://raw.githubusercontent.com/Kazuhito00/MiniCPM-V2.6-Colaboratory-Sample/main/assets/sample01.jpg -O sample01.jpg"
      ],
      "metadata": {
        "id": "z2LApN49jZfn"
      },
      "execution_count": null,
      "outputs": []
    },
    {
      "cell_type": "code",
      "source": [
        "import cv2\n",
        "from PIL import Image\n",
        "\n",
        "cv_image = cv2.imread('sample01.jpg')\n",
        "rgb_image = cv2.cvtColor(cv_image, cv2.COLOR_BGR2RGB)\n",
        "pil_image = Image.fromarray(rgb_image)"
      ],
      "metadata": {
        "id": "vzZXIQk0eO3v"
      },
      "execution_count": 6,
      "outputs": []
    },
    {
      "cell_type": "code",
      "source": [
        "from google.colab.patches import cv2_imshow\n",
        "cv2_imshow(cv_image)"
      ],
      "metadata": {
        "id": "caWaukbPfLaV"
      },
      "execution_count": null,
      "outputs": []
    },
    {
      "cell_type": "markdown",
      "source": [
        "## 初回チャット"
      ],
      "metadata": {
        "id": "2jX-3VRYyQfR"
      }
    },
    {
      "cell_type": "code",
      "source": [
        "%%time\n",
        "\n",
        "question = \"explain this image.\"\n",
        "msgs = [{'role': 'user', 'content': [pil_image, question]}]\n",
        "\n",
        "answer = model.chat(\n",
        "    image=None,\n",
        "    msgs=msgs,\n",
        "    tokenizer=tokenizer,\n",
        ")\n",
        "print(answer)"
      ],
      "metadata": {
        "id": "1x3_PgaTFa2X"
      },
      "execution_count": null,
      "outputs": []
    },
    {
      "cell_type": "markdown",
      "source": [
        "## 2回目チャット（1回目の回答を渡し、追加の質問を行う）"
      ],
      "metadata": {
        "id": "4G9LvK9oyXFH"
      }
    },
    {
      "cell_type": "code",
      "source": [
        "%%time\n",
        "\n",
        "msgs.append({\"role\": \"assistant\", \"content\": [answer]})\n",
        "msgs.append({\"role\": \"user\", \"content\": [\"tell me more about the cartridge.\"]})\n",
        "\n",
        "answer = model.chat(\n",
        "    image=None,\n",
        "    msgs=msgs,\n",
        "    tokenizer=tokenizer\n",
        ")\n",
        "print(answer)"
      ],
      "metadata": {
        "id": "qJE0sLAsFc7e"
      },
      "execution_count": null,
      "outputs": []
    },
    {
      "cell_type": "markdown",
      "source": [
        "# 複数画像認識 サンプル"
      ],
      "metadata": {
        "id": "e4VvStyGyfOh"
      }
    },
    {
      "cell_type": "markdown",
      "source": [
        "## サンプル画像ダウンロード"
      ],
      "metadata": {
        "id": "63p24OVKyrdk"
      }
    },
    {
      "cell_type": "code",
      "source": [
        "!wget https://raw.githubusercontent.com/Kazuhito00/MiniCPM-V2.6-Colaboratory-Sample/main/assets/sample02-01.jpg -O sample02-01.jpg\n",
        "!wget https://raw.githubusercontent.com/Kazuhito00/MiniCPM-V2.6-Colaboratory-Sample/main/assets/sample02-02.jpg -O sample02-02.jpg"
      ],
      "metadata": {
        "id": "4sgeWF5Oi7s-"
      },
      "execution_count": null,
      "outputs": []
    },
    {
      "cell_type": "code",
      "source": [
        "cv_image01 = cv2.imread('sample02-01.jpg')\n",
        "pil_image01 = Image.fromarray(cv2.cvtColor(cv_image01, cv2.COLOR_BGR2RGB))\n",
        "\n",
        "cv_image02 = cv2.imread('sample02-02.jpg')\n",
        "pil_image02 = Image.fromarray(cv2.cvtColor(cv_image02, cv2.COLOR_BGR2RGB))"
      ],
      "metadata": {
        "id": "6qTANmGPfeC2"
      },
      "execution_count": 11,
      "outputs": []
    },
    {
      "cell_type": "code",
      "source": [
        "from google.colab.patches import cv2_imshow\n",
        "debug_image = cv2.hconcat([cv_image01, cv_image02])\n",
        "cv2_imshow(debug_image)"
      ],
      "metadata": {
        "id": "S4ajipFaffhC"
      },
      "execution_count": null,
      "outputs": []
    },
    {
      "cell_type": "markdown",
      "source": [
        "## 2枚の画像を渡し、画像の違いを説明させる"
      ],
      "metadata": {
        "id": "N48Hqd_5yuh4"
      }
    },
    {
      "cell_type": "code",
      "source": [
        "question = 'Compare image 1 and image 2, tell me about the differences between image 1 and image 2.'\n",
        "msgs = [{'role': 'user', 'content': [pil_image01, pil_image02, question]}]\n",
        "\n",
        "answer = model.chat(\n",
        "    image=None,\n",
        "    msgs=msgs,\n",
        "    tokenizer=tokenizer\n",
        ")\n",
        "print(answer)"
      ],
      "metadata": {
        "id": "qW-7EMsICkGx"
      },
      "execution_count": null,
      "outputs": []
    },
    {
      "cell_type": "markdown",
      "source": [
        "# 動画認識 サンプル"
      ],
      "metadata": {
        "id": "lLUV-fbpy6Hg"
      }
    },
    {
      "cell_type": "markdown",
      "source": [
        "## サンプル動画ダウンロード"
      ],
      "metadata": {
        "id": "HHmndtVMy9aF"
      }
    },
    {
      "cell_type": "code",
      "source": [
        "!wget https://raw.githubusercontent.com/Kazuhito00/MiniCPM-V2.6-Colaboratory-Sample/main/assets/sample.mp4 -O sample.mp4"
      ],
      "metadata": {
        "id": "YmK3c6D9nfuY"
      },
      "execution_count": null,
      "outputs": []
    },
    {
      "cell_type": "markdown",
      "source": [
        "## 動画前処理用関数"
      ],
      "metadata": {
        "id": "NKykobnD0xpf"
      }
    },
    {
      "cell_type": "code",
      "source": [
        "def preprocess_video(video_path, max_num_frames=64):\n",
        "    cap = cv2.VideoCapture(video_path)\n",
        "    total_frames = int(cap.get(cv2.CAP_PROP_FRAME_COUNT))\n",
        "    fps = cap.get(cv2.CAP_PROP_FPS)\n",
        "\n",
        "    # サンプリング間隔を計算\n",
        "    sample_fps = round(fps)\n",
        "    frame_idx = [i for i in range(0, total_frames, sample_fps)]\n",
        "\n",
        "    # 必要に応じてフレーム数を制限\n",
        "    def uniform_sample(l, n):\n",
        "        gap = len(l) / n\n",
        "        idxs = [int(i * gap + gap / 2) for i in range(n)]\n",
        "        return [l[i] for i in idxs]\n",
        "    if len(frame_idx) > max_num_frames:\n",
        "        print('uniform_sample() 実行')\n",
        "        frame_idx = uniform_sample(frame_idx, max_num_frames)\n",
        "\n",
        "    print('frame_idx:', frame_idx)\n",
        "    print('フレーム間隔（秒）:', int((frame_idx[-1] - frame_idx[-2]) / sample_fps))\n",
        "\n",
        "    # PIL Image形式でリストに格納\n",
        "    frames = []\n",
        "    for idx in frame_idx:\n",
        "        cap.set(cv2.CAP_PROP_POS_FRAMES, idx)\n",
        "        ret, frame = cap.read()\n",
        "        if not ret:\n",
        "            break\n",
        "        frame = cv2.cvtColor(frame, cv2.COLOR_BGR2RGB)\n",
        "        frames.append(Image.fromarray(frame))\n",
        "\n",
        "    cap.release()\n",
        "\n",
        "    print('フレーム数:', len(frames))\n",
        "    return frames"
      ],
      "metadata": {
        "id": "Ezr98nCxqYmB"
      },
      "execution_count": 15,
      "outputs": []
    },
    {
      "cell_type": "markdown",
      "source": [
        "## 動画解析"
      ],
      "metadata": {
        "id": "Q0xqhQW107VT"
      }
    },
    {
      "cell_type": "code",
      "source": [
        "video_path=\"sample.mp4\"\n",
        "frames = preprocess_video(video_path)\n",
        "\n",
        "question = \"describe the video\"\n",
        "msgs = [\n",
        "    {'role': 'user', 'content': frames + [question]},\n",
        "]\n",
        "params = {}\n",
        "params[\"use_image_id\"] = False\n",
        "params[\"max_slice_nums\"] = 1  # 通常は2を指定し、CUDAメモリオーバーやビデオ解像度が448x448を越える場合1を指定\n",
        "\n",
        "answer = model.chat(\n",
        "    image=None,\n",
        "    msgs=msgs,\n",
        "    tokenizer=tokenizer,\n",
        "    **params\n",
        ")\n",
        "print(answer)"
      ],
      "metadata": {
        "id": "8vHCIxlVn1qr"
      },
      "execution_count": null,
      "outputs": []
    },
    {
      "cell_type": "markdown",
      "source": [
        "# コンテキスト内でのフューショット学習 サンプル"
      ],
      "metadata": {
        "id": "RZzjtsaR1PFc"
      }
    },
    {
      "cell_type": "markdown",
      "source": [
        "## サンプル画像ダウンロード"
      ],
      "metadata": {
        "id": "--1h-lQL1cO8"
      }
    },
    {
      "cell_type": "code",
      "source": [
        "!wget https://raw.githubusercontent.com/Kazuhito00/MiniCPM-V2.6-Colaboratory-Sample/main/assets/sample03-01.jpg -O sample03-01.jpg\n",
        "!wget https://raw.githubusercontent.com/Kazuhito00/MiniCPM-V2.6-Colaboratory-Sample/main/assets/sample03-02.jpg -O sample03-02.jpg\n",
        "!wget https://raw.githubusercontent.com/Kazuhito00/MiniCPM-V2.6-Colaboratory-Sample/main/assets/sample03-03.jpg -O sample03-03.jpg"
      ],
      "metadata": {
        "id": "x6QwlcjdtYoz"
      },
      "execution_count": null,
      "outputs": []
    },
    {
      "cell_type": "code",
      "source": [
        "cv_image03_01 = cv2.imread('sample03-01.jpg')\n",
        "pil_image03_01 = Image.fromarray(cv2.cvtColor(cv_image03_01, cv2.COLOR_BGR2RGB))\n",
        "\n",
        "cv_image03_02 = cv2.imread('sample03-02.jpg')\n",
        "pil_image03_02 = Image.fromarray(cv2.cvtColor(cv_image03_02, cv2.COLOR_BGR2RGB))\n",
        "\n",
        "cv_image03_03 = cv2.imread('sample03-03.jpg')\n",
        "pil_image03_03 = Image.fromarray(cv2.cvtColor(cv_image03_03, cv2.COLOR_BGR2RGB))"
      ],
      "metadata": {
        "id": "gYYHPgJUuUeF"
      },
      "execution_count": 18,
      "outputs": []
    },
    {
      "cell_type": "code",
      "source": [
        "from google.colab.patches import cv2_imshow\n",
        "debug_image = cv2.hconcat([cv_image03_01, cv_image03_02])\n",
        "debug_image = cv2.hconcat([debug_image, cv_image03_03])\n",
        "cv2_imshow(debug_image)"
      ],
      "metadata": {
        "id": "G-Bw43sDuUeF"
      },
      "execution_count": null,
      "outputs": []
    },
    {
      "cell_type": "markdown",
      "source": [
        "## 回答例の学習なしでの質問"
      ],
      "metadata": {
        "id": "RB6cTHTU1jY-"
      }
    },
    {
      "cell_type": "code",
      "source": [
        "question = \"What does this picture represent?\"\n",
        "msgs = [{'role': 'user', 'content': [pil_image03_03, question]}]\n",
        "\n",
        "answer = model.chat(\n",
        "    image=None,\n",
        "    msgs=msgs,\n",
        "    tokenizer=tokenizer,\n",
        ")\n",
        "print(answer)"
      ],
      "metadata": {
        "id": "6FOILcNMvxmZ"
      },
      "execution_count": null,
      "outputs": []
    },
    {
      "cell_type": "markdown",
      "source": [
        "## 回答例の学習ありでの質問"
      ],
      "metadata": {
        "id": "kuCe17qr1m_9"
      }
    },
    {
      "cell_type": "code",
      "source": [
        "ありquestion = \"What does this picture represent?\"\n",
        "answer1 = \"S\"\n",
        "answer2 = \"G\"\n",
        "msgs = [\n",
        "    {'role': 'user', 'content': [pil_image03_01, question]}, {'role': 'assistant', 'content': [answer1]},\n",
        "    {'role': 'user', 'content': [pil_image03_02, question]}, {'role': 'assistant', 'content': [answer2]},\n",
        "    {'role': 'user', 'content': [pil_image03_03, question]}\n",
        "]\n",
        "\n",
        "answer = model.chat(\n",
        "    image=None,\n",
        "    msgs=msgs,\n",
        "    tokenizer=tokenizer\n",
        ")\n",
        "print(answer)"
      ],
      "metadata": {
        "id": "ercjI54YuLM8"
      },
      "execution_count": null,
      "outputs": []
    }
  ]
}